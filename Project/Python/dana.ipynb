{
 "cells": [
  {
   "cell_type": "code",
   "execution_count": 1,
   "metadata": {
    "collapsed": true
   },
   "outputs": [],
   "source": [
    "import numpy as np\n",
    "import pandas as pd"
   ]
  },
  {
   "cell_type": "code",
   "execution_count": 5,
   "metadata": {
    "collapsed": false
   },
   "outputs": [],
   "source": [
    "num_busses = 20\n",
    "num_stations = 24\n",
    "\n",
    "M = \n",
    "M = pd.DataFrame(np.random.rand(num_stations, num_busses))\n",
    "# M[3,:] = 1 # everyone at station 1"
   ]
  },
  {
   "cell_type": "code",
   "execution_count": null,
   "metadata": {
    "collapsed": true
   },
   "outputs": [],
   "source": [
    "from controller import *\n",
    "\n",
    "class Bus:\n",
    "    def __init__(self, bus_id, bus_type, init_stop, controller):\n",
    "        self.bus_id = bus_id\n",
    "        self.bus_type = bus_type\n",
    "        \n",
    "        self.inbox = [] # (tick, sender, message)\n",
    "        self.bus_passengers = [] # (passenger_id, destination_bus_stop)\n",
    "        self.previous_stop = None\n",
    "        self.current_stop = init_stop # central station has to be setted as init_stop\n",
    "        self.next_stop = None\n",
    "        \n",
    "        self.x = init_stop.x\n",
    "        self.y = init_stop.y\n",
    "        \n",
    "        self.progress = 0\n",
    "        \n",
    "        self.controller = controller\n",
    "        \n",
    "        self.connections = controller.connections\n",
    "        \n",
    "        self.init_bus()\n",
    "        \n",
    "        # Communication variables\n",
    "        self.route_table = {i:(-1,-1) for i in range(num_busses)} # information you have about other buses {bus_id:(arrival_time, station)}\n",
    "        self.integrity_table = {i:(-1,-1) for i in range(num_busses)} # information other buses have about you {bus_id:(arrival_time, station)}\n",
    "        self.arrival_time = -1 # TODO set this in controller\n",
    "        self.MAP = pd.DataFrame(np.random.rand(num_stations, num_busses))\n",
    "        \n",
    "        \n",
    "        \n",
    "    def update_route_table(self, received_table):\n",
    "        \n",
    "        for b_id,time_station in received_table.items():\n",
    "            \n",
    "            # If bus is not in communication table, add it \n",
    "            if b_id not in self.route_table:\n",
    "                self.route_table[b_id] = time_station\n",
    "            \n",
    "            elif b_id != self.bus_id and time_station[1] > self.route_table[b_id][1]:\n",
    "                self.route_table[b_id] = time_station\n",
    "    \n",
    "    \n",
    "    \n",
    "    def update_another_bus(self, bus_id):\n",
    "        self.route_table[self.bus_id] = self.next_stop\n",
    "        \n",
    "        send_message(bus_id, (self.route_table, self.MAP)\n",
    "        \n",
    "    \n",
    "    \n",
    "        \n",
    "    def update_system(self):\n",
    "        # if bus has not heard from you\n",
    "                     \n",
    "        for bus_id in self.route_table\n",
    "        \n",
    "        \n",
    "   \n",
    "    \n",
    "    def update(self):\n",
    "        if self.previous_stop and self.next_stop:\n",
    "            distance = self.controller.adj_matrix[self.previous_stop.stop_id, self.next_stop.stop_id]\n",
    "            self.x = self.previous_stop.x + (self.next_stop.x - self.previous_stop.x) * self.progress\n",
    "            self.y = self.previous_stop.y + (self.next_stop.y - self.previous_stop.y) * self.progress\n",
    "        else:\n",
    "            self.x = self.current_stop.x\n",
    "            self.y = self.current_stop.y\n",
    "            \n",
    "        self.execute_action()\n",
    "        \n",
    "    def __eq__(self, other):\n",
    "        if isinstance(other, self.__class__):\n",
    "            return self.bus_id == other.bus_id\n",
    "        else:\n",
    "            return False\n",
    "    \n",
    "    def add_bus(self, vehicle_type):\n",
    "        self.controller.add_bus(vehicle_type)\n",
    "        \n",
    "    def travel_to(self, bus_stop):\n",
    "        self.controller.travel_to(self, bus_stop)\n",
    "        \n",
    "    def pick_up_passenger(self, passenger_id):\n",
    "        self.controller.pick_up_passenger(self, passenger_id)\n",
    "        \n",
    "    def send_message(self, bus_id, message):\n",
    "        self.controller.send_message(self, bus_id, message)\n",
    "        \n",
    "    def init_bus(self):\n",
    "        raise NotImplementedError\n",
    "    \n",
    "    def execute_action(self):\n",
    "        raise NotImplementedError"
   ]
  },
  {
   "cell_type": "code",
   "execution_count": null,
   "metadata": {
    "collapsed": true
   },
   "outputs": [],
   "source": []
  }
 ],
 "metadata": {
  "anaconda-cloud": {},
  "kernelspec": {
   "display_name": "Python [conda root]",
   "language": "python",
   "name": "conda-root-py"
  },
  "language_info": {
   "codemirror_mode": {
    "name": "ipython",
    "version": 3
   },
   "file_extension": ".py",
   "mimetype": "text/x-python",
   "name": "python",
   "nbconvert_exporter": "python",
   "pygments_lexer": "ipython3",
   "version": "3.5.2"
  }
 },
 "nbformat": 4,
 "nbformat_minor": 1
}
