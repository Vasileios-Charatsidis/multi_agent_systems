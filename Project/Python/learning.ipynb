{
 "cells": [
  {
   "cell_type": "code",
   "execution_count": 1,
   "metadata": {
    "collapsed": false
   },
   "outputs": [],
   "source": [
    "import matplotlib.pyplot as plt\n",
    "import matplotlib.animation as animation\n",
    "import pandas as pd\n",
    "from IPython.display import HTML\n",
    "from collections import deque\n",
    "import importlib\n",
    "import seaborn as sns #remove\n",
    "sns.set()\n",
    "sns.set(style=\"whitegrid\")\n",
    "\n",
    "\n",
    "%load_ext autoreload\n",
    "%autoreload 2"
   ]
  },
  {
   "cell_type": "code",
   "execution_count": 2,
   "metadata": {
    "collapsed": false
   },
   "outputs": [
    {
     "name": "stderr",
     "output_type": "stream",
     "text": [
      "Using TensorFlow backend.\n"
     ]
    }
   ],
   "source": [
    "import simulation\n",
    "import controller\n",
    "from simulation import *\n",
    "from genetic_utils import *\n",
    "from dqn_main_bus import DQNMainBus\n",
    "from main_bus import MainBus\n",
    "from genetic_main_bus import GeneticMainBus"
   ]
  },
  {
   "cell_type": "code",
   "execution_count": 3,
   "metadata": {
    "collapsed": true
   },
   "outputs": [],
   "source": [
    "whole_day = 1440"
   ]
  },
  {
   "cell_type": "code",
   "execution_count": 4,
   "metadata": {
    "collapsed": true
   },
   "outputs": [],
   "source": [
    "def get_results(simulation):\n",
    "    num_del = simulation.controller.num_passengers_delivered\n",
    "    expenses = simulation.controller.get_total_cost()\n",
    "    cost_ratio = expenses/num_del\n",
    "    num_messages = simulation.controller.get_messages_sent()\n",
    "    awt = (simulation.controller.total_waiting_time ) / \\\n",
    "        (simulation.controller.num_passengers_delivered + simulation.controller.actual_passenger_count)\n",
    "    return awt, expenses, num_messages, num_del, cost_ratio"
   ]
  },
  {
   "cell_type": "markdown",
   "metadata": {},
   "source": [
    "# Genetic Approach"
   ]
  },
  {
   "cell_type": "markdown",
   "metadata": {},
   "source": [
    "initialization of the simulation and the parameters"
   ]
  },
  {
   "cell_type": "code",
   "execution_count": 5,
   "metadata": {
    "collapsed": false
   },
   "outputs": [
    {
     "name": "stdout",
     "output_type": "stream",
     "text": [
      "Initializing Prob Dist\n"
     ]
    }
   ],
   "source": [
    "genetic_simulation = Simulation(GeneticMainBus)\n",
    "initial_genomes = [[1, 0.5, 0.5, 0.5, 0.5, 0.05], [2, 0.5, 0.5, 0.5, 0.5, 0.08], [3, 0.5, 0.5, 0.5, 0.5, 0.1]]\n",
    "genome_distro = [0.30, 0.35, 0.35]\n",
    "np.random.seed(1234)"
   ]
  },
  {
   "cell_type": "markdown",
   "metadata": {},
   "source": [
    "First day iteration"
   ]
  },
  {
   "cell_type": "code",
   "execution_count": 6,
   "metadata": {
    "collapsed": false
   },
   "outputs": [
    {
     "name": "stdout",
     "output_type": "stream",
     "text": [
      " 1440 / 1440 "
     ]
    },
    {
     "data": {
      "text/plain": [
       "{}"
      ]
     },
     "execution_count": 6,
     "metadata": {},
     "output_type": "execute_result"
    }
   ],
   "source": [
    "genetic_simulation.reset(bus_genomes=initial_genomes, genome_distro=genome_distro)\n",
    "genetic_simulation.execute(iterations=whole_day, animate=False)"
   ]
  },
  {
   "cell_type": "markdown",
   "metadata": {},
   "source": [
    "Initial Results"
   ]
  },
  {
   "cell_type": "code",
   "execution_count": 7,
   "metadata": {
    "collapsed": false
   },
   "outputs": [
    {
     "name": "stdout",
     "output_type": "stream",
     "text": [
      "\n",
      "\tDelivered: 42196\n",
      "\tExpenses: 1099844\n",
      "\tExpenses/Pass Del: 26.065124656365533\n",
      "\tMessages: 26116\n",
      "\tAWT: 100.73592646564286\n"
     ]
    }
   ],
   "source": [
    "awt, expenses, num_messages, num_del, cost_ratio = get_results(genetic_simulation)\n",
    "\n",
    "print('\\n\\tDelivered: {}'.format(num_del))\n",
    "print('\\tExpenses: {}'.format(expenses))\n",
    "print('\\tExpenses/Pass Del: {}'.format(cost_ratio))\n",
    "print('\\tMessages: {}'.format(num_messages))\n",
    "print('\\tAWT: {}'.format(awt))\n",
    "\n",
    "bus_fitness = np.array([bus.cum_reward / MainBus._bus_type_travel_cost[bus.bus_type] for bus in genetic_simulation.controller.buses.values() ])\n",
    "bus_genomes = np.array([bus.genome for bus in genetic_simulation.controller.buses.values() ])\n",
    "init_genomes = np.array([bus.genome for bus in genetic_simulation.controller.buses.values() ])\n",
    "\n",
    "best_perf = awt\n",
    "best_fitness = bus_fitness\n",
    "best_genomes = bus_genomes\n",
    "\n",
    "awt_over_time = [awt]\n",
    "expenses_over_time = [expenses]\n",
    "messages_over_time = [num_messages]\n",
    "delivered_over_time = [num_del]\n",
    "cost_ratio_over_time = [cost_ratio]"
   ]
  },
  {
   "cell_type": "markdown",
   "metadata": {},
   "source": [
    "Evolutionary algorithm run"
   ]
  },
  {
   "cell_type": "code",
   "execution_count": 8,
   "metadata": {
    "collapsed": false
   },
   "outputs": [
    {
     "name": "stdout",
     "output_type": "stream",
     "text": [
      " 1440 / 1440 \n",
      "\tDelivered: 41954\n",
      "\tExpenses: 1131674\n",
      "\tExpenses/Pass Del: 26.97416217762311\n",
      "\tMessages: 29160\n",
      "\tAWT: 87.65317789485484\n",
      " 1440 / 1440 \n",
      "\tDelivered: 41788\n",
      "\tExpenses: 1182104\n",
      "\tExpenses/Pass Del: 28.28812099167225\n",
      "\tMessages: 29636\n",
      "\tAWT: 87.6151552516534\n",
      " 1440 / 1440 \n",
      "\tDelivered: 42227\n",
      "\tExpenses: 1090964\n",
      "\tExpenses/Pass Del: 25.83569753948895\n",
      "\tMessages: 30166\n",
      "\tAWT: 81.3449837462168\n",
      " 1440 / 1440 \n",
      "\tDelivered: 42246\n",
      "\tExpenses: 1089629\n",
      "\tExpenses/Pass Del: 25.792477394309522\n",
      "\tMessages: 30640\n",
      "\tAWT: 82.67884766281807\n",
      " 1440 / 1440 \n",
      "\tDelivered: 42237\n",
      "\tExpenses: 1090349\n",
      "\tExpenses/Pass Del: 25.81502000615574\n",
      "\tMessages: 30741\n",
      "\tAWT: 83.09111086201098\n",
      " 1440 / 1440 \n",
      "\tDelivered: 42340\n",
      "\tExpenses: 1082699\n",
      "\tExpenses/Pass Del: 25.57153991497402\n",
      "\tMessages: 31301\n",
      "\tAWT: 79.44777491312634\n",
      " 1440 / 1440 \n",
      "\tDelivered: 41481\n",
      "\tExpenses: 1250909\n",
      "\tExpenses/Pass Del: 30.156191991514188\n",
      "\tMessages: 32017\n",
      "\tAWT: 89.03802264320143\n",
      " 1440 / 1440 \n",
      "\tDelivered: 41409\n",
      "\tExpenses: 1280099\n",
      "\tExpenses/Pass Del: 30.91354536453428\n",
      "\tMessages: 31363\n",
      "\tAWT: 108.23107274969173\n",
      " 1440 / 1440 \n",
      "\tDelivered: 41042\n",
      "\tExpenses: 1367444\n",
      "\tExpenses/Pass Del: 33.31816188294918\n",
      "\tMessages: 31472\n",
      "\tAWT: 105.37527183051228\n",
      " 1440 / 1440 \n",
      "\tDelivered: 42059\n",
      "\tExpenses: 1111214\n",
      "\tExpenses/Pass Del: 26.42036187260753\n",
      "\tMessages: 31281\n",
      "\tAWT: 91.26046407353435\n",
      " 1440 / 1440 \n",
      "\tDelivered: 41937\n",
      "\tExpenses: 1127039\n",
      "\tExpenses/Pass Del: 26.87457376541002\n",
      "\tMessages: 31276\n",
      "\tAWT: 97.143324739379\n",
      " 1440 / 1440 \n",
      "\tDelivered: 41300\n",
      "\tExpenses: 1279829\n",
      "\tExpenses/Pass Del: 30.98859564164649\n",
      "\tMessages: 31396\n",
      "\tAWT: 101.02125322273288\n",
      " 1440 / 1440 \n",
      "\tDelivered: 41564\n",
      "\tExpenses: 1240619\n",
      "\tExpenses/Pass Del: 29.848402463670485\n",
      "\tMessages: 31228\n",
      "\tAWT: 96.78193027687479\n",
      " 1440 / 1440 \n",
      "\tDelivered: 40060\n",
      "\tExpenses: 1656224\n",
      "\tExpenses/Pass Del: 41.343584623065404\n",
      "\tMessages: 30622\n",
      "\tAWT: 119.56161865261743\n",
      " 1440 / 1440 \n",
      "\tDelivered: 41542\n",
      "\tExpenses: 1196489\n",
      "\tExpenses/Pass Del: 28.801911318665447\n",
      "\tMessages: 29991\n",
      "\tAWT: 99.79831857415088\n",
      " 1440 / 1440 \n",
      "\tDelivered: 40728\n",
      "\tExpenses: 1438049\n",
      "\tExpenses/Pass Del: 35.30860832842271\n",
      "\tMessages: 29913\n",
      "\tAWT: 106.66375966819864\n",
      " 1440 / 1440 \n",
      "\tDelivered: 41109\n",
      "\tExpenses: 1297784\n",
      "\tExpenses/Pass Del: 31.569340047191613\n",
      "\tMessages: 30084\n",
      "\tAWT: 106.86167470014573\n",
      " 1440 / 1440 \n",
      "\tDelivered: 41184\n",
      "\tExpenses: 1332989\n",
      "\tExpenses/Pass Del: 32.36667152292152\n",
      "\tMessages: 30263\n",
      "\tAWT: 104.83600493218249\n",
      " 1440 / 1440 \n",
      "\tDelivered: 40025\n",
      "\tExpenses: 1633664\n",
      "\tExpenses/Pass Del: 40.81608994378514\n",
      "\tMessages: 31881\n",
      "\tAWT: 120.19827373612824\n",
      " 1440 / 1440 \n",
      "\tDelivered: 40763\n",
      "\tExpenses: 1460954\n",
      "\tExpenses/Pass Del: 35.840198218973086\n",
      "\tMessages: 33183\n",
      "\tAWT: 109.67990135635019\n",
      " 1440 / 1440 \n",
      "\tDelivered: 42050\n",
      "\tExpenses: 1105394\n",
      "\tExpenses/Pass Del: 26.287609988109395\n",
      "\tMessages: 33421\n",
      "\tAWT: 80.94890707319807\n",
      " 1440 / 1440 \n",
      "\tDelivered: 41232\n",
      "\tExpenses: 1327694\n",
      "\tExpenses/Pass Del: 32.200572370974\n",
      "\tMessages: 33390\n",
      "\tAWT: 103.22930164779733\n",
      " 1440 / 1440 \n",
      "\tDelivered: 41695\n",
      "\tExpenses: 1161164\n",
      "\tExpenses/Pass Del: 27.84899868089699\n",
      "\tMessages: 33795\n",
      "\tAWT: 103.6104920972985\n",
      " 1440 / 1440 \n",
      "\tDelivered: 41961\n",
      "\tExpenses: 1136054\n",
      "\tExpenses/Pass Del: 27.07404494649794\n",
      "\tMessages: 33723\n",
      "\tAWT: 94.9133281022307\n",
      " 1440 / 1440 \n",
      "\tDelivered: 42091\n",
      "\tExpenses: 1111244\n",
      "\tExpenses/Pass Del: 26.400988334798413\n",
      "\tMessages: 32819\n",
      "\tAWT: 84.77242461607443\n"
     ]
    }
   ],
   "source": [
    "n_iterations = 25\n",
    "\n",
    "# Evolution\n",
    "for _ in range(n_iterations):\n",
    "    \n",
    "    np.random.seed(1234)\n",
    "    # Evolution step\n",
    "    (new_genomes, new_distro) = create_new_population(bus_genomes, bus_fitness, 0.7, 0.2, 0.1)\n",
    "    \n",
    "    # Evaluation\n",
    "    genetic_simulation.reset(bus_genomes = new_genomes, genome_distro= new_distro)\n",
    "    \n",
    "    genetic_simulation.execute(iterations=whole_day, animate=False)\n",
    "    \n",
    "    # Get population stats\n",
    "    bus_fitness = np.array([bus.cum_reward / MainBus._bus_type_travel_cost[bus.bus_type] for bus in genetic_simulation.controller.buses.values() ])\n",
    "    bus_genomes = np.array([bus.genome for bus in genetic_simulation.controller.buses.values() ])\n",
    "\n",
    "    # Display and save results\n",
    "    awt, expenses, num_messages, num_del, cost_ratio = get_results(genetic_simulation)\n",
    "    \n",
    "    awt_over_time.append(awt)\n",
    "    expenses_over_time.append(expenses)\n",
    "    messages_over_time.append(num_messages)\n",
    "    delivered_over_time.append(num_del)\n",
    "    cost_ratio_over_time.append(cost_ratio)\n",
    "    \n",
    "    print('\\n\\tDelivered: {}'.format(num_del))\n",
    "    print('\\tExpenses: {}'.format(expenses))\n",
    "    print('\\tExpenses/Pass Del: {}'.format(cost_ratio))\n",
    "    print('\\tMessages: {}'.format(num_messages))\n",
    "    print('\\tAWT: {}'.format(awt))\n",
    "    \n",
    "    if awt < best_perf:\n",
    "        best_perf = awt\n",
    "        best_fitness = bus_fitness\n",
    "        best_genomes = bus_genomes"
   ]
  },
  {
   "cell_type": "markdown",
   "metadata": {},
   "source": [
    "print the genome distribution before and after the evolution"
   ]
  },
  {
   "cell_type": "code",
   "execution_count": 9,
   "metadata": {
    "collapsed": false
   },
   "outputs": [
    {
     "name": "stdout",
     "output_type": "stream",
     "text": [
      "79.44777491312634\n"
     ]
    },
    {
     "data": {
      "image/png": "[encoded data removed]",
      "text/plain": [
       "<matplotlib.figure.Figure at 0x7f8dc07a7278>"
      ]
     },
     "metadata": {},
     "output_type": "display_data"
    }
   ],
   "source": [
    "print(best_perf)\n",
    "plt.hist(init_genomes[:,0], bins=3, alpha = 0.5, color = 'b')\n",
    "plt.hist(best_genomes[:,0], bins=3, alpha = 0.5, color = 'g')\n",
    "plt.show()"
   ]
  },
  {
   "cell_type": "markdown",
   "metadata": {},
   "source": [
    "print of Average Waiting Time of the parameters during the evolution process"
   ]
  },
  {
   "cell_type": "code",
   "execution_count": 27,
   "metadata": {
    "collapsed": false
   },
   "outputs": [
    {
     "data": {
      "image/png": "[encoded data removed]",
      "text/plain": [
       "<matplotlib.figure.Figure at 0x7f8d94088630>"
      ]
     },
     "metadata": {},
     "output_type": "display_data"
    }
   ],
   "source": [
    "plt.plot(awt_over_time)\n",
    "plt.xlabel('Generation')\n",
    "plt.ylabel('Average Waiting Time')\n",
    "plt.show()"
   ]
  },
  {
   "cell_type": "markdown",
   "metadata": {},
   "source": [
    "# DQN Approach"
   ]
  },
  {
   "cell_type": "markdown",
   "metadata": {},
   "source": [
    "Initialization of the simulation and model parameters"
   ]
  },
  {
   "cell_type": "code",
   "execution_count": 24,
   "metadata": {
    "collapsed": false
   },
   "outputs": [
    {
     "name": "stdout",
     "output_type": "stream",
     "text": [
      "Initializing Prob Dist\n"
     ]
    }
   ],
   "source": [
    "dqn_simulation = Simulation(DQNMainBus)\n",
    "\n",
    "replay_memory = deque(maxlen = 100000)\n",
    "\n",
    "save_every = 10\n",
    "\n",
    "exploration_parameter = 0.1\n",
    "decay_rate = 1e-8\n",
    "epochs = 100\n",
    "batch_size=100\n",
    "\n",
    "iterations=144\n",
    "\n",
    "awt_over_time = []\n",
    "expenses_over_time = []\n",
    "messages_over_time = []\n",
    "delivered_over_time = []\n",
    "cost_ratio_over_time = []"
   ]
  },
  {
   "cell_type": "code",
   "execution_count": 28,
   "metadata": {
    "collapsed": false
   },
   "outputs": [
    {
     "name": "stdout",
     "output_type": "stream",
     "text": [
      "Epoch #1\n",
      " 144 / 144 \n",
      "\tDelivered: 38701\n",
      "\tExpenses: 2047184\n",
      "\tExpenses/Pass Del: 52.89744451047777\n",
      "\tMessages: 12632\n",
      "\tAWT: 147.6641183723798\n",
      "### Saved ###\n",
      "Epoch #2\n",
      " 144 / 144 \n",
      "\tDelivered: 38669\n",
      "\tExpenses: 2055434\n",
      "\tExpenses/Pass Del: 53.15456825881197\n",
      "\tMessages: 12621\n",
      "\tAWT: 149.93610581773345\n",
      "Epoch #3\n",
      " 144 / 144 \n",
      "\tDelivered: 38526\n",
      "\tExpenses: 2165144\n",
      "\tExpenses/Pass Del: 56.19955354825313\n",
      "\tMessages: 12511\n",
      "\tAWT: 155.71803609460824\n",
      "Epoch #4\n",
      " 144 / 144 \n",
      "\tDelivered: 37340\n",
      "\tExpenses: 2416229\n",
      "\tExpenses/Pass Del: 64.7088644884842\n",
      "\tMessages: 12306\n",
      "\tAWT: 170.07736800807083\n",
      "Epoch #5\n",
      " 2 / 144 "
     ]
    },
    {
     "ename": "KeyboardInterrupt",
     "evalue": "",
     "output_type": "error",
     "traceback": [
      "\u001b[0;31m---------------------------------------------------------------------------\u001b[0m",
      "\u001b[0;31mKeyboardInterrupt\u001b[0m                         Traceback (most recent call last)",
      "\u001b[0;32m<ipython-input-28-bc5f96b5093b>\u001b[0m in \u001b[0;36m<module>\u001b[0;34m()\u001b[0m\n\u001b[1;32m      7\u001b[0m \u001b[0;34m\u001b[0m\u001b[0m\n\u001b[1;32m      8\u001b[0m     \u001b[0;32mwhile\u001b[0m \u001b[0mday_time\u001b[0m \u001b[0;34m<\u001b[0m \u001b[0mwhole_day\u001b[0m\u001b[0;34m:\u001b[0m\u001b[0;34m\u001b[0m\u001b[0m\n\u001b[0;32m----> 9\u001b[0;31m         \u001b[0mdqn_simulation\u001b[0m\u001b[0;34m.\u001b[0m\u001b[0mexecute\u001b[0m\u001b[0;34m(\u001b[0m\u001b[0miterations\u001b[0m\u001b[0;34m=\u001b[0m\u001b[0miterations\u001b[0m\u001b[0;34m)\u001b[0m \u001b[0;31m# simulate and collect logs\u001b[0m\u001b[0;34m\u001b[0m\u001b[0m\n\u001b[0m\u001b[1;32m     10\u001b[0m \u001b[0;34m\u001b[0m\u001b[0m\n\u001b[1;32m     11\u001b[0m         \u001b[0mreplay_memory\u001b[0m\u001b[0;34m.\u001b[0m\u001b[0mextend\u001b[0m\u001b[0;34m(\u001b[0m\u001b[0mdqn_simulation\u001b[0m\u001b[0;34m.\u001b[0m\u001b[0mcontroller\u001b[0m\u001b[0;34m.\u001b[0m\u001b[0mreplay_memory\u001b[0m\u001b[0;34m)\u001b[0m \u001b[0;31m# store data into replay memory\u001b[0m\u001b[0;34m\u001b[0m\u001b[0m\n",
      "\u001b[0;32m/home/marco/Documents/UvA/MAS/lab/multi-agent-systems/Project/Python/simulation.py\u001b[0m in \u001b[0;36mexecute\u001b[0;34m(self, iterations, animate, save_file, interval)\u001b[0m\n\u001b[1;32m     28\u001b[0m             \u001b[0;32mfor\u001b[0m \u001b[0mi\u001b[0m \u001b[0;32min\u001b[0m \u001b[0mrange\u001b[0m\u001b[0;34m(\u001b[0m\u001b[0miterations\u001b[0m\u001b[0;34m)\u001b[0m\u001b[0;34m:\u001b[0m\u001b[0;34m\u001b[0m\u001b[0m\n\u001b[1;32m     29\u001b[0m                 \u001b[0mprint\u001b[0m\u001b[0;34m(\u001b[0m\u001b[0;34m'\\r %d / %d '\u001b[0m \u001b[0;34m%\u001b[0m \u001b[0;34m(\u001b[0m\u001b[0mi\u001b[0m\u001b[0;34m+\u001b[0m\u001b[0;36m1\u001b[0m\u001b[0;34m,\u001b[0m \u001b[0miterations\u001b[0m\u001b[0;34m)\u001b[0m\u001b[0;34m,\u001b[0m \u001b[0mend\u001b[0m\u001b[0;34m=\u001b[0m\u001b[0;34m''\u001b[0m\u001b[0;34m)\u001b[0m\u001b[0;34m\u001b[0m\u001b[0m\n\u001b[0;32m---> 30\u001b[0;31m                 \u001b[0mself\u001b[0m\u001b[0;34m.\u001b[0m\u001b[0mmain_loop\u001b[0m\u001b[0;34m(\u001b[0m\u001b[0;34m)\u001b[0m\u001b[0;34m\u001b[0m\u001b[0m\n\u001b[0m\u001b[1;32m     31\u001b[0m \u001b[0;34m\u001b[0m\u001b[0m\n\u001b[1;32m     32\u001b[0m         \u001b[0;32mreturn\u001b[0m \u001b[0mself\u001b[0m\u001b[0;34m.\u001b[0m\u001b[0mcontroller\u001b[0m\u001b[0;34m.\u001b[0m\u001b[0mlogged_data\u001b[0m\u001b[0;34m\u001b[0m\u001b[0m\n",
      "\u001b[0;32m/home/marco/Documents/UvA/MAS/lab/multi-agent-systems/Project/Python/simulation.py\u001b[0m in \u001b[0;36mmain_loop\u001b[0;34m(self)\u001b[0m\n\u001b[1;32m     13\u001b[0m \u001b[0;34m\u001b[0m\u001b[0m\n\u001b[1;32m     14\u001b[0m     \u001b[0;32mdef\u001b[0m \u001b[0mmain_loop\u001b[0m\u001b[0;34m(\u001b[0m\u001b[0mself\u001b[0m\u001b[0;34m)\u001b[0m\u001b[0;34m:\u001b[0m\u001b[0;34m\u001b[0m\u001b[0m\n\u001b[0;32m---> 15\u001b[0;31m         \u001b[0mself\u001b[0m\u001b[0;34m.\u001b[0m\u001b[0mcontroller\u001b[0m\u001b[0;34m.\u001b[0m\u001b[0mstep\u001b[0m\u001b[0;34m(\u001b[0m\u001b[0;34m)\u001b[0m\u001b[0;34m\u001b[0m\u001b[0m\n\u001b[0m\u001b[1;32m     16\u001b[0m \u001b[0;34m\u001b[0m\u001b[0m\n\u001b[1;32m     17\u001b[0m     \u001b[0;32mdef\u001b[0m \u001b[0mexecute\u001b[0m\u001b[0;34m(\u001b[0m\u001b[0mself\u001b[0m\u001b[0;34m,\u001b[0m \u001b[0miterations\u001b[0m\u001b[0;34m=\u001b[0m\u001b[0;36m100\u001b[0m\u001b[0;34m,\u001b[0m \u001b[0manimate\u001b[0m\u001b[0;34m=\u001b[0m\u001b[0;32mFalse\u001b[0m\u001b[0;34m,\u001b[0m \u001b[0msave_file\u001b[0m\u001b[0;34m=\u001b[0m\u001b[0;32mNone\u001b[0m\u001b[0;34m,\u001b[0m \u001b[0minterval\u001b[0m\u001b[0;34m=\u001b[0m\u001b[0;36m100\u001b[0m\u001b[0;34m)\u001b[0m\u001b[0;34m:\u001b[0m\u001b[0;34m\u001b[0m\u001b[0m\n",
      "\u001b[0;32m/home/marco/Documents/UvA/MAS/lab/multi-agent-systems/Project/Python/controller.py\u001b[0m in \u001b[0;36mstep\u001b[0;34m(self)\u001b[0m\n\u001b[1;32m    340\u001b[0m     \u001b[0;32mdef\u001b[0m \u001b[0mstep\u001b[0m\u001b[0;34m(\u001b[0m\u001b[0mself\u001b[0m\u001b[0;34m)\u001b[0m\u001b[0;34m:\u001b[0m\u001b[0;34m\u001b[0m\u001b[0m\n\u001b[1;32m    341\u001b[0m \u001b[0;34m\u001b[0m\u001b[0m\n\u001b[0;32m--> 342\u001b[0;31m         \u001b[0;32mwhile\u001b[0m \u001b[0mself\u001b[0m\u001b[0;34m.\u001b[0m\u001b[0mpassenger_actions\u001b[0m\u001b[0;34m.\u001b[0m\u001b[0mpeek\u001b[0m\u001b[0;34m(\u001b[0m\u001b[0;34m)\u001b[0m \u001b[0;34m<=\u001b[0m \u001b[0mself\u001b[0m\u001b[0;34m.\u001b[0m\u001b[0mticks\u001b[0m \u001b[0;32mand\u001b[0m \u001b[0mself\u001b[0m\u001b[0;34m.\u001b[0m\u001b[0mpassenger_actions\u001b[0m\u001b[0;34m.\u001b[0m\u001b[0mpeek\u001b[0m\u001b[0;34m(\u001b[0m\u001b[0;34m)\u001b[0m \u001b[0;34m!=\u001b[0m \u001b[0;34m-\u001b[0m\u001b[0;36m1\u001b[0m\u001b[0;34m:\u001b[0m\u001b[0;34m\u001b[0m\u001b[0m\n\u001b[0m\u001b[1;32m    343\u001b[0m             \u001b[0maction\u001b[0m \u001b[0;34m=\u001b[0m \u001b[0mself\u001b[0m\u001b[0;34m.\u001b[0m\u001b[0mpassenger_actions\u001b[0m\u001b[0;34m.\u001b[0m\u001b[0mpop\u001b[0m\u001b[0;34m(\u001b[0m\u001b[0;34m)\u001b[0m\u001b[0;34m\u001b[0m\u001b[0m\n\u001b[1;32m    344\u001b[0m             \u001b[0maction\u001b[0m\u001b[0;34m(\u001b[0m\u001b[0;34m)\u001b[0m\u001b[0;34m\u001b[0m\u001b[0m\n",
      "\u001b[0;32m/home/marco/Documents/UvA/MAS/lab/multi-agent-systems/Project/Python/action.py\u001b[0m in \u001b[0;36mpeek\u001b[0;34m(self)\u001b[0m\n\u001b[1;32m     19\u001b[0m     \u001b[0;32mdef\u001b[0m \u001b[0mpeek\u001b[0m\u001b[0;34m(\u001b[0m\u001b[0mself\u001b[0m\u001b[0;34m)\u001b[0m\u001b[0;34m:\u001b[0m\u001b[0;34m\u001b[0m\u001b[0m\n\u001b[1;32m     20\u001b[0m         \u001b[0;32mif\u001b[0m \u001b[0mlen\u001b[0m\u001b[0;34m(\u001b[0m\u001b[0mself\u001b[0m\u001b[0;34m.\u001b[0m\u001b[0m_data\u001b[0m\u001b[0;34m)\u001b[0m \u001b[0;34m>\u001b[0m \u001b[0;36m0\u001b[0m\u001b[0;34m:\u001b[0m\u001b[0;34m\u001b[0m\u001b[0m\n\u001b[0;32m---> 21\u001b[0;31m             \u001b[0;32mreturn\u001b[0m \u001b[0mheapq\u001b[0m\u001b[0;34m.\u001b[0m\u001b[0mnsmallest\u001b[0m\u001b[0;34m(\u001b[0m\u001b[0;36m1\u001b[0m\u001b[0;34m,\u001b[0m \u001b[0mself\u001b[0m\u001b[0;34m.\u001b[0m\u001b[0m_data\u001b[0m\u001b[0;34m)\u001b[0m\u001b[0;34m[\u001b[0m\u001b[0;36m0\u001b[0m\u001b[0;34m]\u001b[0m\u001b[0;34m.\u001b[0m\u001b[0mtime\u001b[0m\u001b[0;34m\u001b[0m\u001b[0m\n\u001b[0m\u001b[1;32m     22\u001b[0m         \u001b[0;32melse\u001b[0m\u001b[0;34m:\u001b[0m\u001b[0;34m\u001b[0m\u001b[0m\n\u001b[1;32m     23\u001b[0m             \u001b[0;32mreturn\u001b[0m \u001b[0;34m-\u001b[0m\u001b[0;36m1\u001b[0m\u001b[0;34m\u001b[0m\u001b[0m\n",
      "\u001b[0;32m/usr/lib/python3.5/heapq.py\u001b[0m in \u001b[0;36mnsmallest\u001b[0;34m(n, iterable, key)\u001b[0m\n\u001b[1;32m    470\u001b[0m         \u001b[0msentinel\u001b[0m \u001b[0;34m=\u001b[0m \u001b[0mobject\u001b[0m\u001b[0;34m(\u001b[0m\u001b[0;34m)\u001b[0m\u001b[0;34m\u001b[0m\u001b[0m\n\u001b[1;32m    471\u001b[0m         \u001b[0;32mif\u001b[0m \u001b[0mkey\u001b[0m \u001b[0;32mis\u001b[0m \u001b[0;32mNone\u001b[0m\u001b[0;34m:\u001b[0m\u001b[0;34m\u001b[0m\u001b[0m\n\u001b[0;32m--> 472\u001b[0;31m             \u001b[0mresult\u001b[0m \u001b[0;34m=\u001b[0m \u001b[0mmin\u001b[0m\u001b[0;34m(\u001b[0m\u001b[0mit\u001b[0m\u001b[0;34m,\u001b[0m \u001b[0mdefault\u001b[0m\u001b[0;34m=\u001b[0m\u001b[0msentinel\u001b[0m\u001b[0;34m)\u001b[0m\u001b[0;34m\u001b[0m\u001b[0m\n\u001b[0m\u001b[1;32m    473\u001b[0m         \u001b[0;32melse\u001b[0m\u001b[0;34m:\u001b[0m\u001b[0;34m\u001b[0m\u001b[0m\n\u001b[1;32m    474\u001b[0m             \u001b[0mresult\u001b[0m \u001b[0;34m=\u001b[0m \u001b[0mmin\u001b[0m\u001b[0;34m(\u001b[0m\u001b[0mit\u001b[0m\u001b[0;34m,\u001b[0m \u001b[0mdefault\u001b[0m\u001b[0;34m=\u001b[0m\u001b[0msentinel\u001b[0m\u001b[0;34m,\u001b[0m \u001b[0mkey\u001b[0m\u001b[0;34m=\u001b[0m\u001b[0mkey\u001b[0m\u001b[0;34m)\u001b[0m\u001b[0;34m\u001b[0m\u001b[0m\n",
      "\u001b[0;32m/home/marco/Documents/UvA/MAS/lab/multi-agent-systems/Project/Python/action.py\u001b[0m in \u001b[0;36m__lt__\u001b[0;34m(self, other)\u001b[0m\n\u001b[1;32m     35\u001b[0m     \u001b[0;32mdef\u001b[0m \u001b[0m__lt__\u001b[0m\u001b[0;34m(\u001b[0m\u001b[0mself\u001b[0m\u001b[0;34m,\u001b[0m \u001b[0mother\u001b[0m\u001b[0;34m)\u001b[0m\u001b[0;34m:\u001b[0m\u001b[0;34m\u001b[0m\u001b[0m\n\u001b[1;32m     36\u001b[0m         \u001b[0;32massert\u001b[0m \u001b[0misinstance\u001b[0m\u001b[0;34m(\u001b[0m\u001b[0mother\u001b[0m\u001b[0;34m,\u001b[0m \u001b[0mself\u001b[0m\u001b[0;34m.\u001b[0m\u001b[0m__class__\u001b[0m\u001b[0;34m)\u001b[0m\u001b[0;34m\u001b[0m\u001b[0m\n\u001b[0;32m---> 37\u001b[0;31m         \u001b[0;32mreturn\u001b[0m \u001b[0mself\u001b[0m\u001b[0;34m.\u001b[0m\u001b[0mtime\u001b[0m \u001b[0;34m<\u001b[0m \u001b[0mother\u001b[0m\u001b[0;34m.\u001b[0m\u001b[0mtime\u001b[0m\u001b[0;34m\u001b[0m\u001b[0m\n\u001b[0m\u001b[1;32m     38\u001b[0m \u001b[0;34m\u001b[0m\u001b[0m\n\u001b[1;32m     39\u001b[0m     \u001b[0;32mdef\u001b[0m \u001b[0m__eq__\u001b[0m\u001b[0;34m(\u001b[0m\u001b[0mself\u001b[0m\u001b[0;34m,\u001b[0m \u001b[0mother\u001b[0m\u001b[0;34m)\u001b[0m\u001b[0;34m:\u001b[0m\u001b[0;34m\u001b[0m\u001b[0m\n",
      "\u001b[0;31mKeyboardInterrupt\u001b[0m: "
     ]
    }
   ],
   "source": [
    "# Main training loop\n",
    "\n",
    "for epoch in range(epochs):\n",
    "    print('Epoch #%d' % (epoch+1))\n",
    "    day_time = 0\n",
    "    dqn_simulation.reset() # resets everything\n",
    "    \n",
    "    while day_time < whole_day:\n",
    "        dqn_simulation.execute(iterations=iterations) # simulate and collect logs\n",
    "        \n",
    "        replay_memory.extend(dqn_simulation.controller.replay_memory) # store data into replay memory\n",
    "\n",
    "        if len(replay_memory)  > batch_size:\n",
    "            # Get random samples\n",
    "            training_idx = np.random.choice(len(replay_memory), size = batch_size)\n",
    "            training_samples = [replay_memory[i] for i in training_idx]\n",
    "\n",
    "            # Train DQN\n",
    "            dqn_simulation.controller.destination_model.train(training_samples)\n",
    "            \n",
    "            # Decrease exploration parameter\n",
    "            DQNMainBus._EXPLORATION_PARAMETER = exploration_parameter\n",
    "            exploration_parameter -= 1e-8\n",
    "        \n",
    "        day_time += iterations\n",
    "        \n",
    "    # Display and save results\n",
    "    awt, expenses, num_messages, num_del, cost_ratio = get_results(dqn_simulation)\n",
    "    \n",
    "    awt_over_time.append(awt)\n",
    "    expenses_over_time.append(expenses)\n",
    "    messages_over_time.append(num_messages)\n",
    "    delivered_over_time.append(num_del)\n",
    "    cost_ratio_over_time.append(cost_ratio)\n",
    "    \n",
    "    print('\\n\\tDelivered: {}'.format(num_del))\n",
    "    print('\\tExpenses: {}'.format(expenses))\n",
    "    print('\\tExpenses/Pass Del: {}'.format(cost_ratio))\n",
    "    print('\\tMessages: {}'.format(num_messages))\n",
    "    print('\\tAWT: {}'.format(awt))\n",
    "    \n",
    "    \n",
    "    if epoch % save_every == 0:\n",
    "        simulation.controller.save_destination_model('decision_model_final')\n",
    "        print('### Saved ###')"
   ]
  },
  {
   "cell_type": "code",
   "execution_count": 30,
   "metadata": {
    "collapsed": false
   },
   "outputs": [
    {
     "data": {
      "image/png": "[encoded data removed]",
      "text/plain": [
       "<matplotlib.figure.Figure at 0x7f8d8429f5f8>"
      ]
     },
     "metadata": {},
     "output_type": "display_data"
    }
   ],
   "source": [
    "plt.plot(awt_over_time)\n",
    "plt.xlabel('Epoch')\n",
    "plt.ylabel('Average Waiting Time')\n",
    "plt.show()"
   ]
  }
 ],
 "metadata": {
  "kernelspec": {
   "display_name": "Python 3",
   "language": "python",
   "name": "python3"
  },
  "language_info": {
   "codemirror_mode": {
    "name": "ipython",
    "version": 3
   },
   "file_extension": ".py",
   "mimetype": "text/x-python",
   "name": "python",
   "nbconvert_exporter": "python",
   "pygments_lexer": "ipython3",
   "version": "3.5.2"
  }
 },
 "nbformat": 4,
 "nbformat_minor": 1
}
