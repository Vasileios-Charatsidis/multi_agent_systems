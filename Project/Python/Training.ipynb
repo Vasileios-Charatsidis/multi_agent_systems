{
 "cells": [
  {
   "cell_type": "code",
   "execution_count": null,
   "metadata": {
    "collapsed": false
   },
   "outputs": [],
   "source": [
    "import matplotlib.pyplot as plt\n",
    "import matplotlib.animation as animation\n",
    "import pandas as pd\n",
    "from IPython.display import HTML\n",
    "from collections import deque\n",
    "import importlib\n",
    "\n",
    "\n",
    "%load_ext autoreload\n",
    "%autoreload 2"
   ]
  },
  {
   "cell_type": "code",
   "execution_count": null,
   "metadata": {
    "collapsed": false
   },
   "outputs": [],
   "source": [
    "import simulation\n",
    "import controller\n",
    "from simulation import *\n",
    "from main_bus import MainBus"
   ]
  },
  {
   "cell_type": "markdown",
   "metadata": {},
   "source": [
    "### Initialization"
   ]
  },
  {
   "cell_type": "code",
   "execution_count": null,
   "metadata": {
    "collapsed": false
   },
   "outputs": [],
   "source": [
    "whole_day = 1440\n",
    "\n",
    "# Parameters\n",
    "\n",
    "replay_length = 100000\n",
    "iterations = 144 # num of ticks before training\n",
    "epochs = 1000 # num of times network is unfrozen, trained\n",
    "batch_size = 32 # num of samples from replay memory to train on\n",
    "animate = False\n",
    "add_arrivals_noise = False\n",
    "\n",
    "# Model\n",
    "loggers = []\n",
    "simulation = Simulation(MainBus, loggers=loggers)\n",
    "replay_memory = deque(maxlen = replay_length)\n",
    "training_results = []\n",
    "training_loss = []\n",
    "delivered_passeners = []\n",
    "\n",
    "save_every = 10"
   ]
  },
  {
   "cell_type": "markdown",
   "metadata": {},
   "source": [
    "### Training"
   ]
  },
  {
   "cell_type": "code",
   "execution_count": null,
   "metadata": {
    "collapsed": false,
    "scrolled": true
   },
   "outputs": [],
   "source": [
    "# Main training loop\n",
    "\n",
    "for epoch in range(epochs):\n",
    "    print('Epoch #%d' % (epoch+1))\n",
    "    day_time = 0\n",
    "    simulation.reset(add_arrivals_noise) # resets everything\n",
    "    \n",
    "    while day_time < whole_day:\n",
    "        training_results.append(simulation.execute(iterations=iterations)) # simulate and collect logs\n",
    "        \n",
    "\n",
    "        replay_memory.extend(simulation.controller.replay_memory) # store data into replay memory\n",
    "\n",
    "        if len(replay_memory)  > batch_size:\n",
    "            # Get random samples\n",
    "            training_idx = np.random.choice(len(replay_memory), size = batch_size)\n",
    "            training_samples = [replay_memory[i] for i in training_idx]\n",
    "\n",
    "            # Train DQN\n",
    "            simulation.controller.destination_model.train(training_samples)\n",
    "        \n",
    "        day_time += iterations\n",
    "        \n",
    "    training_loss.append(simulation.controller.get_total_cost()) # collect loss\n",
    "    delivered_passeners.append(simulation.controller.num_passengers_delivered)\n",
    "    print('\\r\\tdelivered:{}'.format(simulation.controller.num_passengers_delivered))\n",
    "    \n",
    "    if epoch % save_every == 0:\n",
    "        simulation.controller.save_destination_model('decision_model')\n",
    "        print('### CHECKPOINT ###')"
   ]
  },
  {
   "cell_type": "code",
   "execution_count": null,
   "metadata": {
    "collapsed": false,
    "scrolled": true
   },
   "outputs": [],
   "source": [
    "plt.plot(training_loss, 'r-')\n",
    "plt.title('Loss')\n",
    "plt.show()\n",
    "\n",
    "plt.plot(delivered_passeners, 'g-')\n",
    "plt.title('Delivered')\n",
    "plt.show()"
   ]
  },
  {
   "cell_type": "code",
   "execution_count": null,
   "metadata": {
    "collapsed": false
   },
   "outputs": [],
   "source": [
    "simulation.reset()\n",
    "simulation.execute(iterations=700, animate=True)"
   ]
  },
  {
   "cell_type": "code",
   "execution_count": null,
   "metadata": {
    "collapsed": false,
    "scrolled": false
   },
   "outputs": [],
   "source": [
    "HTML(simulation.anim.to_html5_video())"
   ]
  },
  {
   "cell_type": "code",
   "execution_count": null,
   "metadata": {
    "collapsed": true
   },
   "outputs": [],
   "source": []
  }
 ],
 "metadata": {
  "anaconda-cloud": {},
  "kernelspec": {
   "display_name": "Python 3",
   "language": "python",
   "name": "python3"
  },
  "language_info": {
   "codemirror_mode": {
    "name": "ipython",
    "version": 3
   },
   "file_extension": ".py",
   "mimetype": "text/x-python",
   "name": "python",
   "nbconvert_exporter": "python",
   "pygments_lexer": "ipython3",
   "version": "3.5.2"
  }
 },
 "nbformat": 4,
 "nbformat_minor": 1
}
