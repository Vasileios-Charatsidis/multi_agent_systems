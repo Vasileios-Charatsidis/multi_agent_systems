{
 "cells": [
  {
   "cell_type": "code",
   "execution_count": 1,
   "metadata": {
    "collapsed": false
   },
   "outputs": [],
   "source": [
    "import matplotlib.pyplot as plt\n",
    "import matplotlib.animation as animation\n",
    "import pandas as pd\n",
    "from IPython.display import HTML\n",
    "from collections import deque\n",
    "import importlib\n",
    "\n",
    "%load_ext autoreload\n",
    "%reload_ext autoreload"
   ]
  },
  {
   "cell_type": "code",
   "execution_count": 2,
   "metadata": {
    "collapsed": false
   },
   "outputs": [
    {
     "name": "stderr",
     "output_type": "stream",
     "text": [
      "Using TensorFlow backend.\n"
     ]
    }
   ],
   "source": [
    "import simulation\n",
    "import controller\n",
    "from simulation import *\n",
    "from main_bus import MainBus"
   ]
  },
  {
   "cell_type": "code",
   "execution_count": 3,
   "metadata": {
    "collapsed": false
   },
   "outputs": [
    {
     "data": {
      "text/plain": [
       "<module 'controller' from 'C:\\\\Users\\\\Dana\\\\Desktop\\\\Multi-agent Systems\\\\labs\\\\Project\\\\Python\\\\controller.py'>"
      ]
     },
     "execution_count": 3,
     "metadata": {},
     "output_type": "execute_result"
    }
   ],
   "source": [
    "importlib.reload(simulation)\n",
    "importlib.reload(controller)"
   ]
  },
  {
   "cell_type": "markdown",
   "metadata": {},
   "source": [
    "### Initialization"
   ]
  },
  {
   "cell_type": "code",
   "execution_count": null,
   "metadata": {
    "collapsed": false
   },
   "outputs": [
    {
     "name": "stdout",
     "output_type": "stream",
     "text": [
      "Initializing Prob Dist\n"
     ]
    }
   ],
   "source": [
    "# Parameters\n",
    "\n",
    "replay_length = 10000\n",
    "iterations = 500 # num of ticks per epoch\n",
    "epochs = 10 # num of times network is unfrozen, trained\n",
    "batch_size_ratio = 1.0 # num of samples from replay memory to train on\n",
    "animate = False\n",
    "add_arrivals_noise = False\n",
    "\n",
    "# Model\n",
    "loggers = []\n",
    "simulation = Simulation(MainBus, loggers=loggers)\n",
    "replay_memory = deque(maxlen = replay_length)\n",
    "training_results = []\n",
    "training_loss = []"
   ]
  },
  {
   "cell_type": "markdown",
   "metadata": {},
   "source": [
    "### Training"
   ]
  },
  {
   "cell_type": "code",
   "execution_count": null,
   "metadata": {
    "collapsed": false,
    "scrolled": false
   },
   "outputs": [
    {
     "name": "stdout",
     "output_type": "stream",
     "text": [
      "Epoch #1\n",
      " 500 / 500 (702, 649) (702,)\n",
      "Epoch 1/1\n",
      "702/702 [==============================] - 0s - loss: 213.8807\n",
      "Epoch #2\n",
      " 143 / 500 "
     ]
    }
   ],
   "source": [
    "# Main training loop\n",
    "    \n",
    "for epoch in range(epochs):\n",
    "    print('Epoch #%d' % (epoch+1))\n",
    "    \n",
    "    simulation.reset(add_arrivals_noise) # resets everything\n",
    "    \n",
    "    training_results.append(simulation.execute(iterations=iterations)) # simulate and collect logs\n",
    "    training_loss.append(simulation.controller.get_total_cost()) # collect loss\n",
    "\n",
    "    replay_memory.extend(simulation.controller.replay_memory) # store data into replay memory\n",
    "    \n",
    "    # Get random samples\n",
    "    training_idx = np.random.choice(len(replay_memory), size = np.int(len(replay_memory) * batch_size_ratio))\n",
    "    training_samples = [replay_memory[i] for i in training_idx]\n",
    "\n",
    "    # Train DQN\n",
    "    simulation.controller.destination_model.train(training_samples)\n",
    "    \n"
   ]
  },
  {
   "cell_type": "code",
   "execution_count": 20,
   "metadata": {
    "collapsed": false
   },
   "outputs": [
    {
     "data": {
      "image/png": "[encoded data removed]",
      "text/plain": [
       "<matplotlib.figure.Figure at 0x2a6a99c1be0>"
      ]
     },
     "metadata": {},
     "output_type": "display_data"
    }
   ],
   "source": [
    "plt.plot(training_loss, 'r-')\n",
    "plt.show()"
   ]
  },
  {
   "cell_type": "code",
   "execution_count": null,
   "metadata": {
    "collapsed": true
   },
   "outputs": [],
   "source": []
  },
  {
   "cell_type": "code",
   "execution_count": null,
   "metadata": {
    "collapsed": true
   },
   "outputs": [],
   "source": []
  }
 ],
 "metadata": {
  "anaconda-cloud": {},
  "kernelspec": {
   "display_name": "Python [default]",
   "language": "python",
   "name": "python3"
  },
  "language_info": {
   "codemirror_mode": {
    "name": "ipython",
    "version": 3
   },
   "file_extension": ".py",
   "mimetype": "text/x-python",
   "name": "python",
   "nbconvert_exporter": "python",
   "pygments_lexer": "ipython3",
   "version": "3.5.2"
  }
 },
 "nbformat": 4,
 "nbformat_minor": 1
}
