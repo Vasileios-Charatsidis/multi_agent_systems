{
 "cells": [
  {
   "cell_type": "code",
   "execution_count": 1,
   "metadata": {
    "collapsed": true
   },
   "outputs": [],
   "source": [
    "%matplotlib inline\n",
    "import numpy as np\n",
    "import scipy.stats as st\n",
    "import heapq\n",
    "from functools import partial\n",
    "import matplotlib.pyplot as plt\n",
    "import matplotlib.animation as animation\n",
    "import copy\n",
    "import pandas as pd\n",
    "from IPython.display import HTML"
   ]
  },
  {
   "cell_type": "code",
   "execution_count": null,
   "metadata": {
    "collapsed": true
   },
   "outputs": [],
   "source": [
    "class Bus:\n",
    "    def __init__(self, bus_id, bus_type, init_stop, controller):\n",
    "        self.bus_id = bus_id\n",
    "        self.bus_type = bus_type\n",
    "        \n",
    "        self.inbox = [] # (tick, sender, message)\n",
    "        self.bus_passengers = [] # (passenger_id, bus_stop)\n",
    "        self.previous_stop = None\n",
    "        self.current_stop = init_stop # central station has to be setted as init_stop\n",
    "        self.next_stop = None\n",
    "        \n",
    "        self.x = init_stop.x\n",
    "        self.y = init_stop.y\n",
    "        \n",
    "        self.progress = 0\n",
    "        \n",
    "        self.controller = controller\n",
    "        \n",
    "        self.connections = controller.connections\n",
    "        \n",
    "        self.init_bus()\n",
    "        \n",
    "   \n",
    "    \n",
    "    def update(self):\n",
    "        if self.previous_stop and self.next_stop:\n",
    "            distance = self.controller.adj_matrix[self.previous_stop.stop_id, self.next_stop.stop_id]\n",
    "            self.x = self.previous_stop.x + (self.next_stop.x - self.previous_stop.x) * self.progress\n",
    "            self.y = self.previous_stop.y + (self.next_stop.y - self.previous_stop.y) * self.progress\n",
    "        else:\n",
    "            self.x = self.current_stop.x\n",
    "            self.y = self.current_stop.y\n",
    "            \n",
    "        self.execute_action()\n",
    "        \n",
    "    def __eq__(self, other):\n",
    "        if isinstance(other, self.__class__):\n",
    "            return self.bus_id == other.bus_id\n",
    "        else:\n",
    "            return False\n",
    "    \n",
    "    def add_bus(self, vehicle_type):\n",
    "        self.controller.add_bus(vehicle_type)\n",
    "        \n",
    "    def travel_to(self, bus_stop):\n",
    "        self.controller.travel_to(self, bus_stop)\n",
    "        \n",
    "    def pick_up_passenger(self, passenger_id):\n",
    "        self.controller.pick_up_passenger(self, passenger_id)\n",
    "        \n",
    "    def init_bus(self):\n",
    "        pass\n",
    "    \n",
    "    def execute_action(self):\n",
    "        pass\n",
    "    "
   ]
  },
  {
   "cell_type": "code",
   "execution_count": null,
   "metadata": {
    "collapsed": false
   },
   "outputs": [],
   "source": [
    "class TestBus(Bus):\n",
    "    def init_bus(self):\n",
    "        pass\n",
    "    \n",
    "    def execute_action(self):\n",
    "        if self.current_stop:\n",
    "            self.travel_to(np.random.choice(self.connections[self.current_stop.stop_id]))\n",
    "        if self.controller.ticks %5 == 0 and self.bus_id == 24 :\n",
    "            self.add_bus(1)\n",
    "        \n",
    "        "
   ]
  },
  {
   "cell_type": "code",
   "execution_count": null,
   "metadata": {
    "collapsed": true
   },
   "outputs": [],
   "source": []
  },
  {
   "cell_type": "code",
   "execution_count": null,
   "metadata": {
    "collapsed": false
   },
   "outputs": [],
   "source": [
    "class BusStop:\n",
    "    def __init__(self, stop_id, name, x, y):\n",
    "        self.stop_id = stop_id\n",
    "        self.name = name\n",
    "        self.passengers_waiting = []\n",
    "        self.x = x\n",
    "        self.y = y\n",
    "        # self.passengers_that_arrived = [] \n",
    "        \n",
    "    def add_waiting_passenger(self, passenger):\n",
    "        self.passengers_waiting.append(passenger)\n",
    "        \n",
    "    def remove_waiting_passenger(self, passenger):\n",
    "        assert passenger in self.passengers_waiting \n",
    "        self.passengers_waiting.remove(passenger)\n",
    "        \n",
    "    def distance(self, other):\n",
    "        return np.sqrt((self.x-other.x)**2 + (self.y-other.y)**2)\n",
    "    \n",
    "    def __eq__(self, other):\n",
    "        if isinstance(other, self.__class__):\n",
    "            return self.stop_id == other.stop_id\n",
    "        else:\n",
    "            return False"
   ]
  },
  {
   "cell_type": "code",
   "execution_count": null,
   "metadata": {
    "collapsed": true
   },
   "outputs": [],
   "source": [
    "class Passenger:\n",
    "    def __init__(self, passenger_id, source, destination, spawn_time):\n",
    "        self.passenger_id = passenger_id\n",
    "        self.destination = destination\n",
    "        self.source = source\n",
    "        self.spawn_time = spawn_time\n",
    "        \n",
    "    def get_waiting_time(current_time):\n",
    "        return current_time-self.spawn_time\n",
    "    \n",
    "    def __eq__(self, other):\n",
    "        if isinstance(other, self.__class__):\n",
    "            return self.passenger_id == other.passenger_id\n",
    "        else:\n",
    "            return False\n",
    "        "
   ]
  },
  {
   "cell_type": "code",
   "execution_count": null,
   "metadata": {
    "collapsed": false
   },
   "outputs": [],
   "source": [
    "class ActionHeap(object):\n",
    "    def __init__(self, initial=None, key=lambda x:x[0]):\n",
    "        self.key = key\n",
    "        if initial:\n",
    "            self._data = [(key(item), item) for item in initial]\n",
    "            heapq.heapify(self._data)\n",
    "        else:\n",
    "            self._data = []\n",
    "\n",
    "    def push(self, time, action):\n",
    "        heapq.heappush(self._data, (time, action))\n",
    "\n",
    "    def pop(self):\n",
    "        return heapq.heappop(self._data)[1]\n",
    "    \n",
    "    def peek(self):\n",
    "        if len(self._data) > 0:\n",
    "            return heapq.nsmallest(1, self._data)[0][0]\n",
    "        else:\n",
    "            return -1\n",
    "        \n",
    "    def plot(self):\n",
    "        print(self._data)"
   ]
  },
  {
   "cell_type": "code",
   "execution_count": null,
   "metadata": {
    "collapsed": false
   },
   "outputs": [],
   "source": [
    "class SimulationController:\n",
    "    \n",
    "    def __init__(self, bus_class=Bus , debug=False):\n",
    "        self.ticks = 0\n",
    "        self.buses = []\n",
    "        self.last_bus_id = 23\n",
    "        self.bus_class = bus_class\n",
    "        \n",
    "        self.total_cost = 0\n",
    "        self.total_travel_time = 0\n",
    "        self.communication_cost = 0\n",
    "        \n",
    "        self.debug = debug\n",
    "        \n",
    "        self.bus_stops = {}\n",
    "\n",
    "        self.init_map()\n",
    "        \n",
    "        self.actions = ActionHeap()\n",
    "        \n",
    "    def setup(self):\n",
    "        self.add_bus(1)\n",
    "                \n",
    "    \n",
    "    def init_map(self):\n",
    "        amsterdam_bus_stops_names = [\"Amstel\", \"Amstelveenseweg\", \"Buikslotermeer\",\"Centraal\",\"Dam\",\n",
    "                                     \"Evertsenstraat\",\"Floradorp\",\"Haarlemmermeerstation\",\"Hasseltweg\",\n",
    "                                     \"Hendrikkade\",\"Leidseplein\",\"Lelylaan\",\"Muiderpoort\",\"Museumplein\",\n",
    "                                     \"RAI\",\"SciencePark\",\"Sloterdijk\",\"Surinameplein\",\"UvA\",\"VU\",\"Waterlooplein\",\n",
    "                                     \"Weesperplein\",\"Wibautstraat\",\"Zuid\"]\n",
    "\n",
    "        xs = [27, 11, 31, 22, 21, 11, 25, 11, 26, 25, 17, 4, 31, 17, 19, 35, 6, 10, 38, 14, 23, 24, 25, 15]\n",
    "        ys = [7, 4, 30, 21, 18, 18, 30, 9, 24, 18, 14, 12, 13, 11, 3, 10, 26, 13, 11, 1, 16, 13, 11, 4]\n",
    "\n",
    "        self.connections = [[14, 15, 22], [7, 11, 19, 23], [8], [4, 9, 16, 20], [3, 5, 10], [4, 10, 16, 17], \n",
    "                            [8], [1, 13, 17], [2, 6, 9], [3, 8, 20], [4, 5, 13, 17, 21], [1, 16, 17], \n",
    "                            [15, 20, 22], [7, 10, 22, 23], [0, 23], [0, 12, 18], [3, 5, 11], [5, 7, 10, 11], \n",
    "                            [15], [1, 23], [3, 9, 12, 21], [10, 20, 22], [0, 12, 13, 21], [1, 13, 14, 19]] \n",
    "\n",
    "        self.adj_matrix = np.ones((len(xs), len(xs)))*-np.inf\n",
    "        \n",
    "        for i in range(len(self.connections)):\n",
    "            # Creates bus stop and appends it to the list\n",
    "            self.bus_stops[i] = BusStop(i, amsterdam_bus_stops_names[i], xs[i], ys[i])\n",
    "            orig = i\n",
    "            # Creates the bidirectional connection between stop orig and stop dest\n",
    "            for dest in self.connections[i]:\n",
    "                self.adj_matrix[orig, dest] = np.sqrt((xs[orig] - xs[dest])**2 + (ys[orig] - ys[dest])**2)\n",
    "        \n",
    "    \n",
    "    def add_bus(self, vehicle_type):\n",
    "        def bus_creation(vehicle_type):\n",
    "            # increment the id\n",
    "            self.last_bus_id += 1 \n",
    "            # create the bus\n",
    "            new_bus = self.bus_class(self.last_bus_id, vehicle_type,  self.bus_stops[3], self)\n",
    "            # add it to the fleet\n",
    "            self.buses.append(new_bus)\n",
    "        self.actions.push(self.ticks + 1 +np.random.rand()*0.01, partial(bus_creation, vehicle_type))\n",
    "        \n",
    "    def travel_to(self, bus, bus_stop):\n",
    "        assert bus.current_stop\n",
    "        assert bus_stop in self.connections[bus.current_stop.stop_id]\n",
    "        \n",
    "        def start(bus):\n",
    "            bus.previous_stop = bus.current_stop\n",
    "            bus.current_stop = None\n",
    "            bus.next_stop = self.bus_stops[bus_stop]\n",
    "            bus.progress = 0.3\n",
    "            \n",
    "        def arrive(bus):\n",
    "            bus.current_stop = bus.next_stop\n",
    "            bus.next_stop = None\n",
    "            bus.progress = 0\n",
    "            \n",
    "        self.actions.push(self.ticks + np.random.rand()*0.01, partial(start, bus))\n",
    "        self.actions.push(self.ticks + self.adj_matrix[bus.current_stop.stop_id][bus_stop] + np.random.rand()*0.01, \n",
    "                          partial(arrive, bus))\n",
    "            \n",
    "    def pick_up_passenger(self, bus, passenger_id):\n",
    "        def pick_up():\n",
    "            print(\"TO IMPLEMENT PASS\")\n",
    "            \n",
    "        self.actions.push(self.ticks, pick_up)\n",
    "            \n",
    "    def step(self):\n",
    "        while self.actions.peek() <= self.ticks and self.actions.peek() != -1:\n",
    "            action = self.actions.pop()\n",
    "            action()   \n",
    "        \n",
    "        for bus in self.buses:\n",
    "            bus.update()\n",
    "            \n",
    "        while self.actions.peek() == self.ticks and self.actions.peek() != -1:\n",
    "            action = self.actions.pop()\n",
    "            action()\n",
    "          \n",
    "        if self.debug:\n",
    "            print('ticks:{}'.format(self.ticks))\n",
    "            self.actions.plot()\n",
    "        \n",
    "        self.ticks += 1"
   ]
  },
  {
   "cell_type": "code",
   "execution_count": null,
   "metadata": {
    "collapsed": false
   },
   "outputs": [],
   "source": [
    "class Simulation:\n",
    "    def __init__(self, bus_class=Bus , iterations=100, show=False, save_file=None, interval=100, debug=False):\n",
    "        self.debug = debug\n",
    "        \n",
    "        self.simulation = SimulationController(bus_class, debug=debug)\n",
    "        \n",
    "        self.simulation.setup()\n",
    "        \n",
    "        if show:\n",
    "            figure, title, bus_plot = self.init_plot()\n",
    "            self.anim = animation.FuncAnimation(figure, self.animate, \n",
    "                                           iterations, \n",
    "                                           fargs=(title, bus_plot, self), \n",
    "                                           interval=interval)\n",
    "            if save_file:\n",
    "                anim.save(save_file)\n",
    "        else:\n",
    "            for _ in range(iterations):\n",
    "                self.main_loop()\n",
    "    \n",
    "    def main_loop(self):\n",
    "        self.simulation.step()\n",
    " \n",
    "    @staticmethod\n",
    "    def animate(i, title, bus_plot, self):\n",
    "        bus_plot = self.update_plot(title, bus_plot)\n",
    "        self.main_loop()\n",
    "        return bus_plot,\n",
    "\n",
    "    def update_plot(self,title, plot):\n",
    "        buses_x = [bus.x for bus in self.simulation.buses]\n",
    "        buses_y = [bus.y for bus in self.simulation.buses]\n",
    "            \n",
    "        plot.set_data(buses_x, buses_y)\n",
    "\n",
    "        title.set_text('ticks:{}'.format(self.simulation.ticks))\n",
    "        \n",
    "        return plot\n",
    "\n",
    "    def init_plot(self):\n",
    "        plot_figure = plt.figure(figsize=(8,6))\n",
    "        ax = plt.axes()\n",
    "        title = ax.text(0.02,0.95,'', transform=ax.transAxes)\n",
    "        \n",
    "        stop_x = [stop.x for stop in self.simulation.bus_stops.values()]\n",
    "        stop_y = [stop.y for stop in self.simulation.bus_stops.values()]\n",
    "        \n",
    "        plt.ylim(-1,31)\n",
    "        plt.plot(stop_x, stop_y, 'o')\n",
    "        \n",
    "        for stop_id, station in enumerate(self.simulation.connections):\n",
    "            sx = self.simulation.bus_stops[stop_id].x\n",
    "            sy = self.simulation.bus_stops[stop_id].y\n",
    "            \n",
    "            stop_name = self.simulation.bus_stops[stop_id].name\n",
    "            \n",
    "            plt.annotate('{},{}'.format(str(stop_id),stop_name[:3]), xy=(sx+0.3, sy-0.3))\n",
    "\n",
    "            \n",
    "            for destination_id in station:\n",
    "                dx = self.simulation.bus_stops[destination_id].x\n",
    "                dy = self.simulation.bus_stops[destination_id].y\n",
    "                plt.plot([sx,dx], [sy,dy], color='b', alpha=0.3)\n",
    "\n",
    "        \n",
    "        bus_plot, = plt.plot([], [], 'o', color='g', markersize=10, marker=(4,0,0))\n",
    "\n",
    "        return plot_figure, title, bus_plot"
   ]
  },
  {
   "cell_type": "code",
   "execution_count": null,
   "metadata": {
    "collapsed": true
   },
   "outputs": [],
   "source": [
    "class AmsterdamBus(Bus):\n",
    "    \n",
    "    fixed_routes = [[3,16,11,1,19,23,13,10,4,3],\n",
    "                [3,4,5,17,7,1,23,14,0,22,21,20,3],\n",
    "                [3,9,8,6,8,2,8,9,3],\n",
    "                [3,9,20,12,15,18,15,0,22,21,20,3]]\n",
    "\n",
    "    \n",
    "    def init_bus(self): # [id1, id2, ... idn] id's of stations to visit in route\n",
    "        self.fixed_route = np.random.choice(AmsterdamBus.fixed_routes)\n",
    "        self.current_station_idx = 0\n",
    "        pass\n",
    "    \n",
    "    def next_station(self):\n",
    "        if self.current_station_idx >= len(self.fixed_route)-1:\n",
    "            print('eh')\n",
    "            self.current_station_idx = 0\n",
    "        self.current_station_idx +=1\n",
    "        return self.fixed_route[self.current_station_idx]\n",
    "    \n",
    "    def execute_action(self):\n",
    "        if self.current_stop:\n",
    "            self.travel_to(self.next_station())"
   ]
  },
  {
   "cell_type": "code",
   "execution_count": null,
   "metadata": {
    "collapsed": false
   },
   "outputs": [],
   "source": [
    "plt.close('all')\n",
    "show = True\n",
    "debug = False\n",
    "\n",
    "simulation = Simulation(AmsterdamBus, show=show, iterations=100, interval=100, debug=debug)\n",
    "\n",
    "HTML(simulation.anim.to_html5_video())"
   ]
  },
  {
   "cell_type": "code",
   "execution_count": null,
   "metadata": {
    "collapsed": false
   },
   "outputs": [],
   "source": [
    "df = pd.read_pickle('./passengers.dataframe')\n",
    "df['Time'] = pd.to_datetime(df['Time'], format=\"%H:%M\")\n",
    "stations = df.columns[2:]"
   ]
  },
  {
   "cell_type": "code",
   "execution_count": null,
   "metadata": {
    "collapsed": false
   },
   "outputs": [],
   "source": [
    "[3,16,11,1,19,23,13,10,4,3]\n",
    "[3,4,5,17,7,1,23,14,0,22,21,20,3]\n",
    "[3,9,8,6,8,2,8,9,3]\n",
    "[3,9,20,12,15,18,15,0,22,21,20,3]"
   ]
  },
  {
   "cell_type": "code",
   "execution_count": null,
   "metadata": {
    "collapsed": true
   },
   "outputs": [],
   "source": []
  },
  {
   "cell_type": "code",
   "execution_count": 4,
   "metadata": {
    "collapsed": false
   },
   "outputs": [
    {
     "data": {
      "text/plain": [
       "array([-1.63106226, -0.90819206])"
      ]
     },
     "execution_count": 4,
     "metadata": {},
     "output_type": "execute_result"
    }
   ],
   "source": [
    "\n",
    "mean = [0,0]\n",
    "cov = [[1, 0], [0, 1]]\n",
    "np.random.multivariate_normal(mean, cov)"
   ]
  },
  {
   "cell_type": "code",
   "execution_count": 72,
   "metadata": {
    "collapsed": false
   },
   "outputs": [
    {
     "name": "stdout",
     "output_type": "stream",
     "text": [
      "-3.46944695195e-18\n"
     ]
    },
    {
     "data": {
      "image/png": "[encoded data removed]",
      "text/plain": [
       "<matplotlib.figure.Figure at 0x7f8a6536d4e0>"
      ]
     },
     "metadata": {},
     "output_type": "display_data"
    }
   ],
   "source": [
    "import matplotlib.pyplot as plt\n",
    "from mpl_toolkits.mplot3d import Axes3D\n",
    "from matplotlib import cm\n",
    "\n",
    "x, y = np.mgrid[-5:5:.1, -5:5:.1]\n",
    "pos = np.empty(x.shape + (2,))\n",
    "pos[:, :, 0] = x; pos[:, :, 1] = y\n",
    "\n",
    "rv = st.multivariate_normal([0, 0], [[10, 0], [0, 10]])\n",
    "rv2 = st.multivariate_normal([0, 0], [[0.5, 0], [0, 0.5]])\n",
    "\n",
    "fig = plt.figure()\n",
    "ax = fig.gca(projection='3d')\n",
    "\n",
    "# Make data.\n",
    "Z = rv.pdf(pos) - 0.05 * rv2.pdf(pos)\n",
    "\n",
    "print(np.min(Z))\n",
    "\n",
    "# Plot the surface.\n",
    "surf = ax.plot_surface(x, y, Z, cmap=cm.coolwarm,linewidth=0, antialiased=False)\n"
   ]
  },
  {
   "cell_type": "code",
   "execution_count": 20,
   "metadata": {
    "collapsed": false
   },
   "outputs": [
    {
     "data": {
      "text/plain": [
       "(200, 200)"
      ]
     },
     "execution_count": 20,
     "metadata": {},
     "output_type": "execute_result"
    }
   ],
   "source": [
    "np.shape(rv.pdf(pos))"
   ]
  },
  {
   "cell_type": "code",
   "execution_count": null,
   "metadata": {
    "collapsed": true
   },
   "outputs": [],
   "source": [
    "class BayesianGame:\n",
    "    def __init__(self, players, actions, types, prob, util):\n",
    "        self.players = players\n",
    "        self.actions = actions\n",
    "        self.types = types\n",
    "        self.prob = prob\n",
    "        self.util = util\n",
    "        \n",
    "    def get_waiting_time(current_time):\n",
    "        return current_time-self.spawn_time\n",
    "    \n",
    "    def __eq__(self, other):\n",
    "        if isinstance(other, self.__class__):\n",
    "            return self.passenger_id == other.passenger_id\n",
    "        else:\n",
    "            return False\n",
    "        "
   ]
  },
  {
   "cell_type": "code",
   "execution_count": null,
   "metadata": {
    "collapsed": true
   },
   "outputs": [],
   "source": []
  },
  {
   "cell_type": "code",
   "execution_count": 7,
   "metadata": {
    "collapsed": false
   },
   "outputs": [],
   "source": [
    "amsterdam_bus_stops_names = [\"Amstel\", \"Amstelveenseweg\", \"Buikslotermeer\",\"Centraal\",\"Dam\",\n",
    "                                     \"Evertsenstraat\",\"Floradorp\",\"Haarlemmermeerstation\",\"Hasseltweg\",\n",
    "                                     \"Hendrikkade\",\"Leidseplein\",\"Lelylaan\",\"Muiderpoort\",\"Museumplein\",\n",
    "                                     \"RAI\",\"SciencePark\",\"Sloterdijk\",\"Surinameplein\",\"UvA\",\"VU\",\"Waterlooplein\",\n",
    "                                     \"Weesperplein\",\"Wibautstraat\",\"Zuid\"]\n",
    "\n",
    "xs = [27, 11, 31, 22, 21, 11, 25, 11, 26, 25, 17, 4, 31, 17, 19, 35, 6, 10, 38, 14, 23, 24, 25, 15]\n",
    "ys = [7, 4, 30, 21, 18, 18, 30, 9, 24, 18, 14, 12, 13, 11, 3, 10, 26, 13, 11, 1, 16, 13, 11, 4]\n",
    "\n",
    "connections = [[14, 15, 22], [7, 11, 19, 23], [8], [4, 9, 16, 20], [3, 5, 10], [4, 10, 16, 17], \n",
    "                            [8], [1, 13, 17], [2, 6, 9], [3, 8, 20], [4, 5, 13, 17, 21], [1, 16, 17], \n",
    "                            [15, 20, 22], [7, 10, 22, 23], [0, 23], [0, 12, 18], [3, 5, 11], [5, 7, 10, 11], \n",
    "                            [15], [1, 23], [3, 9, 12, 21], [10, 20, 22], [0, 12, 13, 21], [1, 13, 14, 19]]"
   ]
  },
  {
   "cell_type": "code",
   "execution_count": 8,
   "metadata": {
    "collapsed": false
   },
   "outputs": [],
   "source": [
    "def create_estimated_map(self):\n",
    "\n",
    "    S = len(self.amsterdam_bus_stops_names)\n",
    "    T = 24\n",
    "    P = np.zeros((T+1, S, S))\n",
    "    B = 1000\n",
    "\n",
    "    for s in range(S):    \n",
    "        distro = np.zeros(S)\n",
    "        distro[s] = B\n",
    "        P[0, :, s] = distro\n",
    "\n",
    "        for t in range(T):\n",
    "            aux_distro = np.zeros(S)\n",
    "            for s_prime in range(S):\n",
    "                for b in range(int(distro[s_prime])):\n",
    "                    dest = np.random.choice(self.connections[s_prime])\n",
    "                    aux_distro[dest] += 1\n",
    "            distro = aux_distro\n",
    "            P[t+1, :, s] = distro\n",
    "    P /= B\n",
    "    return(P/B)\n"
   ]
  },
  {
   "cell_type": "code",
   "execution_count": 9,
   "metadata": {
    "collapsed": false
   },
   "outputs": [],
   "source": [
    "S = len(amsterdam_bus_stops_names)\n",
    "T = 10\n",
    "P = np.zeros((T, S, S))\n",
    "B = 1000\n",
    "\n",
    "for s in range(S):    \n",
    "    distro = np.zeros(S)\n",
    "    distro[s] = B\n",
    "    P[0, :, s] = distro\n",
    "\n",
    "    for t in range(T):\n",
    "        aux_distro = np.zeros(S)\n",
    "        for s_prime in range(S):\n",
    "            for b in range(int(distro[s_prime])):\n",
    "                dest = np.random.choice(connections[s_prime])\n",
    "                aux_distro[dest] += 1\n",
    "        distro = aux_distro\n",
    "        P[t+1, :, s] = distro\n",
    "P /= B\n"
   ]
  },
  {
   "cell_type": "code",
   "execution_count": 15,
   "metadata": {
    "collapsed": false
   },
   "outputs": [
    {
     "name": "stdout",
     "output_type": "stream",
     "text": [
      "[ 0.  1.  0.  0.  0.  0.  0.  0.  0.  0.  0.  0.  0.  0.  0.  0.  0.  0.\n",
      "  0.  0.  0.  0.  0.  0.]\n"
     ]
    }
   ],
   "source": [
    "print(P[0,:,1])"
   ]
  },
  {
   "cell_type": "code",
   "execution_count": 152,
   "metadata": {
    "collapsed": false
   },
   "outputs": [
    {
     "data": {
      "text/plain": [
       "1048576"
      ]
     },
     "execution_count": 152,
     "metadata": {},
     "output_type": "execute_result"
    }
   ],
   "source": [
    "4**10"
   ]
  },
  {
   "cell_type": "code",
   "execution_count": null,
   "metadata": {
    "collapsed": true
   },
   "outputs": [],
   "source": []
  },
  {
   "cell_type": "code",
   "execution_count": null,
   "metadata": {
    "collapsed": true
   },
   "outputs": [],
   "source": [
    "# Receives a bus B, origin and destination stations O and D, a list of passengers at station O and the current time T\n",
    "# It is missing to implement attribute capacity for the bus\n",
    "def pick_up(B,O,D,P,T):\n",
    "    # Create vector from O to the passenger destiantion weighted by its waiting time\n",
    "    V = np.array([[ p.get_waiting_time(T) * (p.destination.x - O.x), p.get_waiting_time(T) * (p.destination.y - O.y)] for p in P])\n",
    "    \n",
    "    # Create vector from O to D\n",
    "    w = np.array([ [D.x - O.x] [D.y - O.y]])\n",
    "    \n",
    "    # Multiply V with w (equivalent to taking dot product between each v and w)\n",
    "    x = np.dot(V,w)\n",
    "    \n",
    "    # Order the passengers by descending dot product\n",
    "    ordering = np.argsort(-x)\n",
    "    \n",
    "    # Select the best passengers by their dot product score (if they go in the same direction of the bus) until bus capacity\n",
    "    selected_passengers = []\n",
    "    for i in range(len(ordering)):\n",
    "        if x[i] > 0:\n",
    "            selected_passengers.append(ordering[i])\n",
    "        # If the bus is full, brake\n",
    "        if len(selected_passengers) == B.capacity:\n",
    "            break\n",
    "    \n",
    "    return selected_passengers"
   ]
  },
  {
   "cell_type": "code",
   "execution_count": null,
   "metadata": {
    "collapsed": true
   },
   "outputs": [],
   "source": []
  },
  {
   "cell_type": "code",
   "execution_count": 21,
   "metadata": {
    "collapsed": false
   },
   "outputs": [
    {
     "name": "stdout",
     "output_type": "stream",
     "text": [
      "[1 4 7 5]\n",
      "[1 4 5 7]\n"
     ]
    }
   ],
   "source": [
    "a = np.array([1, 4, 7, 5])\n",
    "\n",
    "print(a)\n",
    "print(np.sort(a))"
   ]
  },
  {
   "cell_type": "code",
   "execution_count": 30,
   "metadata": {
    "collapsed": false
   },
   "outputs": [
    {
     "name": "stdout",
     "output_type": "stream",
     "text": [
      "[2 3 1 0]\n"
     ]
    }
   ],
   "source": [
    "\n",
    "print(ix)"
   ]
  },
  {
   "cell_type": "code",
   "execution_count": 33,
   "metadata": {
    "collapsed": false
   },
   "outputs": [
    {
     "name": "stdout",
     "output_type": "stream",
     "text": [
      "2\n",
      "3\n",
      "1\n"
     ]
    }
   ],
   "source": []
  },
  {
   "cell_type": "code",
   "execution_count": null,
   "metadata": {
    "collapsed": true
   },
   "outputs": [],
   "source": []
  }
 ],
 "metadata": {
  "anaconda-cloud": {},
  "kernelspec": {
   "display_name": "Python [default]",
   "language": "python",
   "name": "python3"
  },
  "language_info": {
   "codemirror_mode": {
    "name": "ipython",
    "version": 3
   },
   "file_extension": ".py",
   "mimetype": "text/x-python",
   "name": "python",
   "nbconvert_exporter": "python",
   "pygments_lexer": "ipython3",
   "version": "3.5.2"
  }
 },
 "nbformat": 4,
 "nbformat_minor": 1
}
