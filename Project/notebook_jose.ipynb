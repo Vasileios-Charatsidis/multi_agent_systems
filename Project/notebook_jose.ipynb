{
 "cells": [
  {
   "cell_type": "code",
   "execution_count": 1,
   "metadata": {
    "collapsed": true
   },
   "outputs": [],
   "source": [
    "import numpy as np"
   ]
  },
  {
   "cell_type": "code",
   "execution_count": 8,
   "metadata": {
    "collapsed": false
   },
   "outputs": [],
   "source": [
    "amsterdam_bus_stops_names = [\"Amstel\", \"Amstelveenseweg\", \"Buikslotermeer\",\"Centraal\",\"Dam\"\n",
    "    \"Evertsenstraat\",\"Floradorp\",\"Haarlemmermeerstation\",\"Hasseltweg\",\"Hendrikkade\"\n",
    "    \"Leidseplein\",\"Lelylaan\",\"Muiderpoort\",\"Museumplein\",\"RAI\",\"SciencePark\",\"Sloterdijk\"\n",
    "    \"Surinameplein\",\"UvA\",\"VU\",\"Waterlooplein\",\"Weesperplein\",\"Wibautstraat\",\"Zuid\"]\n",
    "\n",
    "xs = [27, 11, 31, 22, 21, 11, 25, 11, 26, 25, 17, 4, 31, 17, 19, 35, 6, 10, 38, 14, 23, 24, 25, 15]\n",
    "ys = [7, 4, 30, 21, 18, 18, 30, 9, 24, 18, 14, 12, 13, 11, 3, 10, 26, 13, 11, 1, 16, 13, 11, 4]\n",
    "\n",
    "connections = [[15, 14, 22], [19, 23, 11], [8], [9, 20, 4, 16], [5, 10], [10, 17, 16], [8], [13, 1, 17], [9], [20], [17, 13, 21], [17, 16], [20, 22, 15], [22, 23], [23], [18], [], [], [], [23], [21], [22], [], []]"
   ]
  },
  {
   "cell_type": "code",
   "execution_count": null,
   "metadata": {
    "collapsed": true
   },
   "outputs": [],
   "source": [
    "for i in range(len(amsterdam_bus_stops_names)):\n",
    "    self.bus_stops.append(BusStop(i, amsterdam_bus_stops_names[i], xi[i], ys[i]))"
   ]
  },
  {
   "cell_type": "code",
   "execution_count": null,
   "metadata": {
    "collapsed": false
   },
   "outputs": [],
   "source": [
    "for i in range(len(connections)):\n",
    "    orig = i\n",
    "    for dest in connections[i]:\n",
    "        self.adj_matrix[orig, dest] = np.sqrt((xs[orig] - xs[dest])^2 + (ys[orig] - ys[dest])^2)"
   ]
  },
  {
   "cell_type": "code",
   "execution_count": null,
   "metadata": {
    "collapsed": true
   },
   "outputs": [],
   "source": [
    "``` python\n",
    "\n",
    "amsterdam_bus_stops_names = [\"Amstel\", \"Amstelveenseweg\", \"Buikslotermeer\",\"Centraal\",\"Dam\"\n",
    "    \"Evertsenstraat\",\"Floradorp\",\"Haarlemmermeerstation\",\"Hasseltweg\",\"Hendrikkade\"\n",
    "    \"Leidseplein\",\"Lelylaan\",\"Muiderpoort\",\"Museumplein\",\"RAI\",\"SciencePark\",\"Sloterdijk\"\n",
    "    \"Surinameplein\",\"UvA\",\"VU\",\"Waterlooplein\",\"Weesperplein\",\"Wibautstraat\",\"Zuid\"]\n",
    "\n",
    "xs = [27, 11, 31, 22, 21, 11, 25, 11, 26, 25, 17, 4, 31, 17, 19, 35, 6, 10, 38, 14, 23, 24, 25, 15]\n",
    "ys = [7, 4, 30, 21, 18, 18, 30, 9, 24, 18, 14, 12, 13, 11, 3, 10, 26, 13, 11, 1, 16, 13, 11, 4]\n",
    "\n",
    "connections = [[15, 14, 22], [19, 23, 11], [8], [9, 20, 4, 16], [5, 10], [10, 17, 16], [8], [13, 1, 17], [9], [20], [17, 13, 21], [17, 16], [20, 22, 15], [22, 23], [23], [18], [], [], [], [23], [21], [22], [], []]\n",
    "\n",
    "for i in range(len(connections)):\n",
    "    # Creates bus stop and appends it to the list\n",
    "    self.bus_stops.append(BusStop(i, amsterdam_bus_stops_names[i], xi[i], ys[i]))\n",
    "    orig = i\n",
    "    # Creates the bidirectional connection between stop orig and stop dest\n",
    "    for dest in connections[i]:\n",
    "        self.adj_matrix[orig, dest] = np.sqrt((xs[orig] - xs[dest])^2 + (ys[orig] - ys[dest])^2)\n",
    "        self.adj_matrix[dest, orig] = np.sqrt((xs[orig] - xs[dest])^2 + (ys[orig] - ys[dest])^2)\n",
    "\n",
    "```"
   ]
  },
  {
   "cell_type": "code",
   "execution_count": 11,
   "metadata": {
    "collapsed": false
   },
   "outputs": [
    {
     "ename": "TypeError",
     "evalue": "random_sample() takes at most 1 positional argument (2 given)",
     "output_type": "error",
     "traceback": [
      "\u001b[0;31m---------------------------------------------------------------------------\u001b[0m",
      "\u001b[0;31mTypeError\u001b[0m                                 Traceback (most recent call last)",
      "\u001b[0;32m<ipython-input-11-9ffa8a106ed2>\u001b[0m in \u001b[0;36m<module>\u001b[0;34m()\u001b[0m\n\u001b[0;32m----> 1\u001b[0;31m \u001b[0mnp\u001b[0m\u001b[0;34m.\u001b[0m\u001b[0mrandom\u001b[0m\u001b[0;34m.\u001b[0m\u001b[0mrandom\u001b[0m\u001b[0;34m(\u001b[0m\u001b[0;36m0\u001b[0m\u001b[0;34m,\u001b[0m\u001b[0;36m0.1\u001b[0m\u001b[0;34m)\u001b[0m\u001b[0;34m\u001b[0m\u001b[0m\n\u001b[0m",
      "\u001b[0;32mmtrand.pyx\u001b[0m in \u001b[0;36mmtrand.RandomState.random_sample (numpy/random/mtrand/mtrand.c:15497)\u001b[0;34m()\u001b[0m\n",
      "\u001b[0;31mTypeError\u001b[0m: random_sample() takes at most 1 positional argument (2 given)"
     ]
    }
   ],
   "source": [
    "np.random.random(0,0.1)"
   ]
  },
  {
   "cell_type": "code",
   "execution_count": null,
   "metadata": {
    "collapsed": true
   },
   "outputs": [],
   "source": []
  }
 ],
 "metadata": {
  "anaconda-cloud": {},
  "kernelspec": {
   "display_name": "Python [default]",
   "language": "python",
   "name": "python3"
  },
  "language_info": {
   "codemirror_mode": {
    "name": "ipython",
    "version": 3
   },
   "file_extension": ".py",
   "mimetype": "text/x-python",
   "name": "python",
   "nbconvert_exporter": "python",
   "pygments_lexer": "ipython3",
   "version": "3.5.2"
  }
 },
 "nbformat": 4,
 "nbformat_minor": 1
}
